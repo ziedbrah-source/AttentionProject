{
 "cells": [
  {
   "cell_type": "code",
   "execution_count": 1,
   "id": "8410d96f",
   "metadata": {},
   "outputs": [],
   "source": [
    "from scipy.spatial import distance\n",
    "from imutils import face_utils\n",
    "import imutils\n",
    "import dlib\n",
    "import cv2\n",
    "from pyicloud import PyiCloudService\n",
    "import rabbitmqDevice"
   ]
  },
  {
   "cell_type": "code",
   "execution_count": 2,
   "id": "96f27b40",
   "metadata": {},
   "outputs": [],
   "source": [
    "email = input(\"Enter icloud email:\")\n",
    "password = input(\"Enter icloud password:\")\n",
    "api = PyiCloudService(email, password)\n",
    "if api.requires_2fa:\n",
    "    print(\"Two-factor authentication required.\")\n",
    "    code = input(\"Enter the code you received of one of your approved devices: \")\n",
    "    result = api.validate_2fa_code(code)\n",
    "    print(\"Code validation result: %s\" % result)\n",
    "\n",
    "    if not result:\n",
    "        print(\"Failed to verify security code\")\n",
    "        sys.exit(1)\n",
    "\n",
    "    if not api.is_trusted_session:\n",
    "        print(\"Session is not trusted. Requesting trust...\")\n",
    "        result = api.trust_session()\n",
    "        print(\"Session trust result %s\" % result)\n",
    "\n",
    "        if not result:\n",
    "            print(\"Failed to request trust. You will likely be prompted for the code again in the coming weeks\")\n",
    "elif api.requires_2sa:\n",
    "    import click\n",
    "    print(\"Two-step authentication required. Your trusted devices are:\")\n",
    "\n",
    "    devices = api.trusted_devices\n",
    "    for i, device in enumerate(devices):\n",
    "        print(\n",
    "            \"  %s: %s\" % (i, device.get('deviceName',\n",
    "            \"SMS to %s\" % device.get('phoneNumber')))\n",
    "        )\n",
    "\n",
    "    device = click.prompt('Which device would you like to use?', default=0)\n",
    "    device = devices[device]\n",
    "    if not api.send_verification_code(device):\n",
    "        print(\"Failed to send verification code\")\n",
    "        sys.exit(1)\n",
    "\n",
    "    code = click.prompt('Please enter validation code')\n",
    "    if not api.validate_verification_code(device, code):\n",
    "        print(\"Failed to verify verification code\")\n",
    "        sys.exit(1)\n",
    "\n",
    "device=api.devices[0]"
   ]
  },
  {
   "cell_type": "code",
   "execution_count": 3,
   "id": "6046d8ed",
   "metadata": {},
   "outputs": [],
   "source": [
    "def eye_aspect_ratio(eye):\n",
    "\tA = distance.euclidean(eye[1], eye[5])\n",
    "\tB = distance.euclidean(eye[2], eye[4])\n",
    "\tC = distance.euclidean(eye[0], eye[3])\n",
    "\tear = (A + B) / (2.0 * C)\n",
    "\treturn ear"
   ]
  },
  {
   "cell_type": "code",
   "execution_count": 4,
   "id": "ac5c3ef6",
   "metadata": {},
   "outputs": [],
   "source": [
    "thresh = 0.25\n",
    "frame_check = 20\n",
    "detect = dlib.get_frontal_face_detector()\n",
    "predict = dlib.shape_predictor(\"shape_predictor_68_face_landmarks.dat\")"
   ]
  },
  {
   "cell_type": "code",
   "execution_count": 5,
   "id": "bb26c2ef",
   "metadata": {},
   "outputs": [],
   "source": [
    "(lStart, lEnd) = face_utils.FACIAL_LANDMARKS_IDXS[\"left_eye\"]\n",
    "(rStart, rEnd) = face_utils.FACIAL_LANDMARKS_IDXS[\"right_eye\"]\n"
   ]
  },
  {
   "cell_type": "code",
   "execution_count": 6,
   "id": "a0594a1b",
   "metadata": {},
   "outputs": [
    {
     "name": "stdout",
     "output_type": "stream",
     "text": [
      "{'isOld': False, 'isInaccurate': False, 'altitude': 0.0, 'positionType': 'Unknown', 'secureLocation': None, 'secureLocationTs': 0, 'latitude': 36.85009363934129, 'floorLevel': 0, 'horizontalAccuracy': 10.009473020601355, 'locationType': '', 'timeStamp': 1653744280430, 'locationFinished': True, 'verticalAccuracy': 0.0, 'locationMode': None, 'longitude': 10.25992774303369}\n",
      "36.85009363934129\n",
      " [x] Sent \n",
      "{'isOld': False, 'isInaccurate': False, 'altitude': 0.0, 'positionType': 'Unknown', 'secureLocation': None, 'secureLocationTs': 0, 'latitude': 36.85009363934129, 'floorLevel': 0, 'horizontalAccuracy': 10.009473020601355, 'locationType': '', 'timeStamp': 1653744280430, 'locationFinished': True, 'verticalAccuracy': 0.0, 'locationMode': None, 'longitude': 10.25992774303369}\n",
      "36.85009363934129\n",
      " [x] Sent \n",
      "{'isOld': False, 'isInaccurate': False, 'altitude': 0.0, 'positionType': 'Unknown', 'secureLocation': None, 'secureLocationTs': 0, 'latitude': 36.85009363934129, 'floorLevel': 0, 'horizontalAccuracy': 10.009473020601355, 'locationType': '', 'timeStamp': 1653744302155, 'locationFinished': False, 'verticalAccuracy': 0.0, 'locationMode': None, 'longitude': 10.25992774303369}\n",
      "36.85009363934129\n",
      " [x] Sent \n",
      "{'isOld': False, 'isInaccurate': False, 'altitude': 0.0, 'positionType': 'Unknown', 'secureLocation': None, 'secureLocationTs': 0, 'latitude': 36.85009363934129, 'floorLevel': 0, 'horizontalAccuracy': 10.009473020601355, 'locationType': '', 'timeStamp': 1653744302155, 'locationFinished': False, 'verticalAccuracy': 0.0, 'locationMode': None, 'longitude': 10.25992774303369}\n",
      "36.85009363934129\n",
      " [x] Sent \n",
      "{'isOld': False, 'isInaccurate': False, 'altitude': 0.0, 'positionType': 'Unknown', 'secureLocation': None, 'secureLocationTs': 0, 'latitude': 36.85009363934129, 'floorLevel': 0, 'horizontalAccuracy': 10.009473020601355, 'locationType': '', 'timeStamp': 1653744302155, 'locationFinished': False, 'verticalAccuracy': 0.0, 'locationMode': None, 'longitude': 10.25992774303369}\n",
      "36.85009363934129\n",
      " [x] Sent \n"
     ]
    },
    {
     "ename": "KeyboardInterrupt",
     "evalue": "",
     "output_type": "error",
     "traceback": [
      "\u001b[1;31m---------------------------------------------------------------------------\u001b[0m",
      "\u001b[1;31mKeyboardInterrupt\u001b[0m                         Traceback (most recent call last)",
      "\u001b[1;32mc:\\Users\\moham\\OneDrive\\Desktop\\ProjectPPP\\back\\Ai_Part\\DrwsinessMonitorProject.ipynb Cell 6'\u001b[0m in \u001b[0;36m<cell line: 4>\u001b[1;34m()\u001b[0m\n\u001b[0;32m      <a href='vscode-notebook-cell:/c%3A/Users/moham/OneDrive/Desktop/ProjectPPP/back/Ai_Part/DrwsinessMonitorProject.ipynb#ch0000004?line=4'>5</a>\u001b[0m frame \u001b[39m=\u001b[39m imutils\u001b[39m.\u001b[39mresize(frame, width\u001b[39m=\u001b[39m\u001b[39m450\u001b[39m)\n\u001b[0;32m      <a href='vscode-notebook-cell:/c%3A/Users/moham/OneDrive/Desktop/ProjectPPP/back/Ai_Part/DrwsinessMonitorProject.ipynb#ch0000004?line=5'>6</a>\u001b[0m gray \u001b[39m=\u001b[39m cv2\u001b[39m.\u001b[39mcvtColor(frame, cv2\u001b[39m.\u001b[39mCOLOR_BGR2GRAY)\n\u001b[1;32m----> <a href='vscode-notebook-cell:/c%3A/Users/moham/OneDrive/Desktop/ProjectPPP/back/Ai_Part/DrwsinessMonitorProject.ipynb#ch0000004?line=6'>7</a>\u001b[0m subjects \u001b[39m=\u001b[39m detect(gray, \u001b[39m0\u001b[39;49m)\n\u001b[0;32m      <a href='vscode-notebook-cell:/c%3A/Users/moham/OneDrive/Desktop/ProjectPPP/back/Ai_Part/DrwsinessMonitorProject.ipynb#ch0000004?line=7'>8</a>\u001b[0m \u001b[39mfor\u001b[39;00m subject \u001b[39min\u001b[39;00m subjects:\n\u001b[0;32m      <a href='vscode-notebook-cell:/c%3A/Users/moham/OneDrive/Desktop/ProjectPPP/back/Ai_Part/DrwsinessMonitorProject.ipynb#ch0000004?line=8'>9</a>\u001b[0m     shape \u001b[39m=\u001b[39m predict(gray, subject)\n",
      "\u001b[1;31mKeyboardInterrupt\u001b[0m: "
     ]
    },
    {
     "ename": "",
     "evalue": "",
     "output_type": "error",
     "traceback": [
      "\u001b[1;31mThe Kernel crashed while executing code in the the current cell or a previous cell. Please review the code in the cell(s) to identify a possible cause of the failure. Click <a href='https://aka.ms/vscodeJupyterKernelCrash'>here</a> for more info. View Jupyter <a href='command:jupyter.viewOutput'>log</a> for further details."
     ]
    }
   ],
   "source": [
    "cap=cv2.VideoCapture(1)\n",
    "flag=0\n",
    "while True:\n",
    "        ret, frame=cap.read()\n",
    "        frame = imutils.resize(frame, width=450)\n",
    "        gray = cv2.cvtColor(frame, cv2.COLOR_BGR2GRAY)\n",
    "        subjects = detect(gray, 0)\n",
    "        for subject in subjects:\n",
    "            shape = predict(gray, subject)\n",
    "            shape = face_utils.shape_to_np(shape)#converting to NumPy Array\n",
    "            leftEye = shape[lStart:lEnd]\n",
    "            rightEye = shape[rStart:rEnd]\n",
    "            leftEAR = eye_aspect_ratio(leftEye)\n",
    "            rightEAR = eye_aspect_ratio(rightEye)\n",
    "            ear = (leftEAR + rightEAR) / 2.0\n",
    "            leftEyeHull = cv2.convexHull(leftEye)\n",
    "            rightEyeHull = cv2.convexHull(rightEye)\n",
    "            cv2.drawContours(frame, [leftEyeHull], -1, (0, 255, 0), 1)\n",
    "            cv2.drawContours(frame, [rightEyeHull], -1, (0, 255, 0), 1)\n",
    "            if ear < thresh:\n",
    "                flag += 1\n",
    "                #print (flag)\n",
    "                if flag >= frame_check:\n",
    "                    \n",
    "                    cv2.putText(frame,str(flag), (10, 30),\n",
    "                        cv2.FONT_HERSHEY_SIMPLEX, 0.7, (0, 0, 255), 2)\n",
    "\n",
    "                    cv2.putText(frame, \"****************ALERT!****************\", (10, 30),\n",
    "                        cv2.FONT_HERSHEY_SIMPLEX, 0.7, (0, 0, 255), 2)\n",
    "                        \n",
    "                    cv2.putText(frame, \"****************ALERT!****************\", (10,325),\n",
    "                        cv2.FONT_HERSHEY_SIMPLEX, 0.7, (0, 0, 255), 2)\n",
    "                    rabbitmqDevice.sendNotif(device)\n",
    "            else:\n",
    "                flag = 0\n",
    "        cv2.imshow(\"Frame\", frame)\n",
    "        key = cv2.waitKey(1) & 0xFF\n",
    "        if key == ord(\"q\"):\n",
    "            cv2.destroyAllWindows()\n",
    "            cap.release()\n",
    "            break"
   ]
  },
  {
   "cell_type": "code",
   "execution_count": null,
   "id": "07a97d73",
   "metadata": {},
   "outputs": [],
   "source": [
    "cv2.destroyAllWindows()\n",
    "cap.release()"
   ]
  },
  {
   "cell_type": "code",
   "execution_count": null,
   "id": "1125ed8a",
   "metadata": {},
   "outputs": [],
   "source": []
  }
 ],
 "metadata": {
  "interpreter": {
   "hash": "2f2e1fb2a3b1494e2ce2d620806ace1f30b1e2c236dd55f932f68dad84626b10"
  },
  "kernelspec": {
   "display_name": "Python 3.9.6 64-bit",
   "language": "python",
   "name": "python3"
  },
  "language_info": {
   "codemirror_mode": {
    "name": "ipython",
    "version": 3
   },
   "file_extension": ".py",
   "mimetype": "text/x-python",
   "name": "python",
   "nbconvert_exporter": "python",
   "pygments_lexer": "ipython3",
   "version": "3.9.6"
  }
 },
 "nbformat": 4,
 "nbformat_minor": 5
}
